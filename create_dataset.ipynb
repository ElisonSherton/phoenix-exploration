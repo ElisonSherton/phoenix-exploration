{
 "cells": [
  {
   "cell_type": "code",
   "execution_count": 1,
   "id": "896a8e91",
   "metadata": {},
   "outputs": [
    {
     "name": "stderr",
     "output_type": "stream",
     "text": [
      "/opt/anaconda3/envs/phoenix/lib/python3.10/site-packages/tqdm/auto.py:21: TqdmWarning: IProgress not found. Please update jupyter and ipywidgets. See https://ipywidgets.readthedocs.io/en/stable/user_install.html\n",
      "  from .autonotebook import tqdm as notebook_tqdm\n"
     ]
    }
   ],
   "source": [
    "from datasets import load_dataset\n",
    "\n",
    "data = load_dataset(\"PolyAI/banking77\")"
   ]
  },
  {
   "cell_type": "code",
   "execution_count": 2,
   "id": "b79066a0",
   "metadata": {},
   "outputs": [],
   "source": [
    "evaluation_set = data[\"test\"].to_pandas()"
   ]
  },
  {
   "cell_type": "code",
   "execution_count": 3,
   "id": "0ab4d3fe",
   "metadata": {},
   "outputs": [],
   "source": [
    "evaluation_data = evaluation_set[evaluation_set.label.isin(range(1,5))].groupby(by = [\"label\"]).sample(5, random_state=42)"
   ]
  },
  {
   "cell_type": "code",
   "execution_count": 4,
   "id": "21e85392",
   "metadata": {},
   "outputs": [],
   "source": [
    "import json\n",
    "labels = json.load(open(\"data/label_mapping.json\", \"r\"))\n",
    "evaluation_data[\"label\"] = evaluation_data[\"label\"].apply(lambda x: labels.get(str(x), None))"
   ]
  },
  {
   "cell_type": "code",
   "execution_count": 5,
   "id": "70a52e56",
   "metadata": {},
   "outputs": [],
   "source": [
    "evaluation_data = evaluation_data.sample(len(evaluation_data), random_state=42).reset_index(drop = True)"
   ]
  },
  {
   "cell_type": "code",
   "execution_count": 6,
   "id": "e18aa772",
   "metadata": {},
   "outputs": [],
   "source": [
    "evaluation_data.columns = [\"utterance\", \"label\"]\n",
    "evaluation_data.to_csv(\"data/evaluation_data.csv\", index = False)"
   ]
  }
 ],
 "metadata": {
  "kernelspec": {
   "display_name": "phoenix",
   "language": "python",
   "name": "python3"
  },
  "language_info": {
   "codemirror_mode": {
    "name": "ipython",
    "version": 3
   },
   "file_extension": ".py",
   "mimetype": "text/x-python",
   "name": "python",
   "nbconvert_exporter": "python",
   "pygments_lexer": "ipython3",
   "version": "3.10.18"
  }
 },
 "nbformat": 4,
 "nbformat_minor": 5
}
